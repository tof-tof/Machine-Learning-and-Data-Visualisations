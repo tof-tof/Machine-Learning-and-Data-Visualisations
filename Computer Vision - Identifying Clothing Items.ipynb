{
 "cells": [
  {
   "cell_type": "markdown",
   "metadata": {},
   "source": [
    "In this notebook, we use some tensorflow tools build a model that can identify a piece of clothing from a low-reslution image\n",
    "\n",
    "# Imports"
   ]
  },
  {
   "cell_type": "code",
   "execution_count": 1,
   "metadata": {},
   "outputs": [
    {
     "data": {
      "text/html": [
       "<style>.container { width:95% !important; }</style>"
      ],
      "text/plain": [
       "<IPython.core.display.HTML object>"
      ]
     },
     "metadata": {},
     "output_type": "display_data"
    }
   ],
   "source": [
    "#display\n",
    "from IPython.core.display import display, HTML\n",
    "display(HTML(\"<style>.container { width:95% !important; }</style>\"))\n",
    "\n",
    "#machine learning libraries\n",
    "import numpy as np\n",
    "from sklearn.model_selection import train_test_split\n",
    "from tensorflow import keras\n",
    "from tensorflow import keras\n",
    "from tensorflow.keras.models import Sequential\n",
    "from tensorflow.keras.layers import Dense, Flatten, Conv2D, Dropout\n"
   ]
  },
  {
   "cell_type": "code",
   "execution_count": 2,
   "metadata": {},
   "outputs": [],
   "source": [
    "img_rows, img_cols = 28, 28\n",
    "num_classes = 10\n",
    "def prep_data(raw):\n",
    "    y = raw[:, 0]\n",
    "    out_y = keras.utils.to_categorical(y, num_classes)\n",
    "    \n",
    "    x = raw[:,1:]\n",
    "    num_images = raw.shape[0]\n",
    "    out_x = x.reshape(num_images, img_rows, img_cols, 1)\n",
    "    out_x = out_x / 255\n",
    "    return out_x, out_y\n",
    "\n",
    "fashion_file = \"fashionmnist/fashion-mnist_train.csv\"\n",
    "fashion_data = np.loadtxt(fashion_file, skiprows=1, delimiter=',')\n",
    "x, y = prep_data(fashion_data)"
   ]
  },
  {
   "cell_type": "code",
   "execution_count": 3,
   "metadata": {},
   "outputs": [],
   "source": [
    "def buildModel(act='relu'):\n",
    "    fashion_model = Sequential()\n",
    "    fashion_model.add(Conv2D(20,\n",
    "                    activation=act,\n",
    "                    kernel_size=3,\n",
    "                    input_shape = (img_rows, img_cols, 1)))\n",
    "    fashion_model.add(Conv2D(20,\n",
    "                    activation=act,\n",
    "                    kernel_size=3,\n",
    "                    input_shape = (img_rows, img_cols, 1)))\n",
    "    fashion_model.add(Conv2D(20,\n",
    "                    activation=act,\n",
    "                    kernel_size=3,\n",
    "                    input_shape = (img_rows, img_cols, 1)))\n",
    "    fashion_model.add(Conv2D(40,\n",
    "                    activation=act,\n",
    "                    kernel_size=3,\n",
    "                    input_shape = (img_rows, img_cols, 1)))\n",
    "    fashion_model.add(Flatten())\n",
    "    fashion_model.add(Dense(100, activation=act))\n",
    "    fashion_model.add(Dense(10, activation='softmax'))\n",
    "\n",
    "    return fashion_model"
   ]
  },
  {
   "cell_type": "code",
   "execution_count": 7,
   "metadata": {},
   "outputs": [],
   "source": [
    "def compileModel(loss=\"categorical_crossentropy\",optimizer='adam',metrics= ['accuracy'], build_model = buildModel()):\n",
    "    fashion_model = build_model\n",
    "    fashion_model.compile(loss = loss,\n",
    "                      optimizer = optimizer,\n",
    "                      metrics = metrics) \n",
    "    return fashion_model"
   ]
  },
  {
   "cell_type": "code",
   "execution_count": 5,
   "metadata": {},
   "outputs": [
    {
     "name": "stdout",
     "output_type": "stream",
     "text": [
      "WARNING:tensorflow:From C:\\Users\\tofun\\AppData\\Local\\Continuum\\anaconda3\\envs\\TensorFlowEnv\\lib\\site-packages\\tensorflow\\python\\ops\\init_ops.py:1251: calling VarianceScaling.__init__ (from tensorflow.python.ops.init_ops) with dtype is deprecated and will be removed in a future version.\n",
      "Instructions for updating:\n",
      "Call initializer instance with the dtype argument instead of passing it to the constructor\n"
     ]
    }
   ],
   "source": [
    "def fitModel(batch_size = 100,epochs = 4,validation_split = 0.2,build_model = buildModel()):\n",
    "    fashion_model = compileModel()\n",
    "    fashion_model.fit(x,y, batch_size = batch_size,\n",
    "                  epochs = epochs,\n",
    "                  validation_split = validation_split)\n",
    "    return fashion_model    "
   ]
  },
  {
   "cell_type": "code",
   "execution_count": null,
   "metadata": {},
   "outputs": [],
   "source": [
    "fitModel()"
   ]
  },
  {
   "cell_type": "markdown",
   "metadata": {},
   "source": [
    "when run, the model works quite slowly but accurately, to speed up the model will increase the stride size and add a dropout layer to help decrease the amount of overfitting"
   ]
  },
  {
   "cell_type": "code",
   "execution_count": 8,
   "metadata": {},
   "outputs": [
    {
     "name": "stdout",
     "output_type": "stream",
     "text": [
      "Train on 48000 samples, validate on 12000 samples\n",
      "Epoch 1/4\n",
      "48000/48000 [==============================] - 219s 5ms/sample - loss: 0.4770 - acc: 0.8279 - val_loss: 0.3508 - val_acc: 0.8733\n",
      "Epoch 2/4\n",
      "48000/48000 [==============================] - 159s 3ms/sample - loss: 0.2914 - acc: 0.8939 - val_loss: 0.2810 - val_acc: 0.9024\n",
      "Epoch 3/4\n",
      "48000/48000 [==============================] - 130s 3ms/sample - loss: 0.2362 - acc: 0.9137 - val_loss: 0.2624 - val_acc: 0.9082\n",
      "Epoch 4/4\n",
      "48000/48000 [==============================] - 136s 3ms/sample - loss: 0.1931 - acc: 0.9281 - val_loss: 0.3029 - val_acc: 0.8951\n"
     ]
    },
    {
     "data": {
      "text/plain": [
       "<tensorflow.python.keras.engine.sequential.Sequential at 0x20a37b675f8>"
      ]
     },
     "execution_count": 8,
     "metadata": {},
     "output_type": "execute_result"
    }
   ],
   "source": [
    "def buildwithStridesAndDropout(act='relu'):\n",
    "    fashion_model = Sequential()\n",
    "    fashion_model.add(Conv2D(20,\n",
    "                    activation=act,\n",
    "                    kernel_size=3, \n",
    "                    strides = 2,\n",
    "                    input_shape = (img_rows, img_cols, 1)))\n",
    "    fashion_model.add(Dropout(0.5))\n",
    "    fashion_model.add(Conv2D(20,\n",
    "                    activation=act,\n",
    "                    kernel_size=3,\n",
    "                    input_shape = (img_rows, img_cols, 1)))\n",
    "    fashion_model.add(Dropout(0.5))\n",
    "    fashion_model.add(Conv2D(20,\n",
    "                    activation=act,\n",
    "                    kernel_size=3,\n",
    "                    strides = 2,\n",
    "                    input_shape = (img_rows, img_cols, 1)))\n",
    "    fashion_model.add(Dropout(0.5))\n",
    "    fashion_model.add(Conv2D(40,\n",
    "                    activation=act,\n",
    "                    kernel_size=3,\n",
    "                    input_shape = (img_rows, img_cols, 1)))\n",
    "    fashion_model.add(Conv2D(40,\n",
    "                    activation=act,\n",
    "                    kernel_size=3,\n",
    "                    input_shape = (img_rows, img_cols, 1)))\n",
    "    fashion_model.add(Flatten())\n",
    "    fashion_model.add(Dense(128, activation=act))\n",
    "    fashion_model.add(Dense(10, activation='softmax'))\n",
    "\n",
    "    return fashion_model\n",
    "\n",
    "fitModel(build_model = buildwithStridesAndDropout())"
   ]
  },
  {
   "cell_type": "markdown",
   "metadata": {},
   "source": [
    "as seen, the value is about them same, but the speed is much faster. Does changing the activiation function make much difference?"
   ]
  },
  {
   "cell_type": "code",
   "execution_count": 9,
   "metadata": {},
   "outputs": [
    {
     "name": "stdout",
     "output_type": "stream",
     "text": [
      "Train on 48000 samples, validate on 12000 samples\n",
      "Epoch 1/4\n",
      "48000/48000 [==============================] - 134s 3ms/sample - loss: 0.1625 - acc: 0.9398 - val_loss: 0.2703 - val_acc: 0.9078\n",
      "Epoch 2/4\n",
      "48000/48000 [==============================] - 131s 3ms/sample - loss: 0.1224 - acc: 0.9544 - val_loss: 0.2854 - val_acc: 0.9092\n",
      "Epoch 3/4\n",
      "48000/48000 [==============================] - 126s 3ms/sample - loss: 0.0928 - acc: 0.9653 - val_loss: 0.3031 - val_acc: 0.9103\n",
      "Epoch 4/4\n",
      "48000/48000 [==============================] - 128s 3ms/sample - loss: 0.0653 - acc: 0.9761 - val_loss: 0.3903 - val_acc: 0.9053\n"
     ]
    },
    {
     "data": {
      "text/plain": [
       "<tensorflow.python.keras.engine.sequential.Sequential at 0x20a37b675f8>"
      ]
     },
     "execution_count": 9,
     "metadata": {},
     "output_type": "execute_result"
    }
   ],
   "source": [
    "fitModel(build_model = buildwithStridesAndDropout(act='elu'))"
   ]
  },
  {
   "cell_type": "code",
   "execution_count": 10,
   "metadata": {},
   "outputs": [
    {
     "name": "stdout",
     "output_type": "stream",
     "text": [
      "WARNING:tensorflow:From C:\\Users\\tofun\\AppData\\Local\\Continuum\\anaconda3\\envs\\TensorFlowEnv\\lib\\site-packages\\tensorflow\\python\\keras\\backend.py:4075: add_dispatch_support.<locals>.wrapper (from tensorflow.python.ops.array_ops) is deprecated and will be removed in a future version.\n",
      "Instructions for updating:\n",
      "Use tf.where in 2.0, which has the same broadcast rule as np.where\n",
      "Train on 48000 samples, validate on 12000 samples\n",
      "Epoch 1/4\n",
      "48000/48000 [==============================] - 120s 3ms/sample - loss: 0.0520 - acc: 0.9807 - val_loss: 0.4152 - val_acc: 0.9049\n",
      "Epoch 2/4\n",
      "48000/48000 [==============================] - 120s 2ms/sample - loss: 0.0363 - acc: 0.9865 - val_loss: 0.4615 - val_acc: 0.9043\n",
      "Epoch 3/4\n",
      "48000/48000 [==============================] - 135s 3ms/sample - loss: 0.0297 - acc: 0.9897 - val_loss: 0.4358 - val_acc: 0.9068\n",
      "Epoch 4/4\n",
      "48000/48000 [==============================] - 143s 3ms/sample - loss: 0.0255 - acc: 0.9912 - val_loss: 0.4712 - val_acc: 0.9094\n"
     ]
    },
    {
     "data": {
      "text/plain": [
       "<tensorflow.python.keras.engine.sequential.Sequential at 0x20a37b675f8>"
      ]
     },
     "execution_count": 10,
     "metadata": {},
     "output_type": "execute_result"
    }
   ],
   "source": [
    "fitModel(build_model = buildwithStridesAndDropout(act='selu'))"
   ]
  },
  {
   "cell_type": "markdown",
   "metadata": {},
   "source": [
    "there is very little difference, but the selu function seems to the model that suffers the least from overfitting, as, unlike the other two, the valiation accuracy continually increases."
   ]
  },
  {
   "cell_type": "code",
   "execution_count": null,
   "metadata": {},
   "outputs": [],
   "source": []
  }
 ],
 "metadata": {
  "kernelspec": {
   "display_name": "Python 3",
   "language": "python",
   "name": "python3"
  },
  "language_info": {
   "codemirror_mode": {
    "name": "ipython",
    "version": 3
   },
   "file_extension": ".py",
   "mimetype": "text/x-python",
   "name": "python",
   "nbconvert_exporter": "python",
   "pygments_lexer": "ipython3",
   "version": "3.7.1"
  }
 },
 "nbformat": 4,
 "nbformat_minor": 2
}
