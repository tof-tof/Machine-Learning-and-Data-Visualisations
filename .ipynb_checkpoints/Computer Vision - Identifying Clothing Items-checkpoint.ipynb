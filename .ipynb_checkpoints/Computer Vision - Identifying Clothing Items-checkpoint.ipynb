{
 "cells": [
  {
   "cell_type": "markdown",
   "metadata": {},
   "source": [
    "In this notebook, we use some tensorflow tools build a model that can identify a piece of clothing from a low-reslution image\n",
    "\n",
    "# Imports"
   ]
  },
  {
   "cell_type": "code",
   "execution_count": 7,
   "metadata": {},
   "outputs": [
    {
     "data": {
      "text/html": [
       "<style>.container { width:95% !important; }</style>"
      ],
      "text/plain": [
       "<IPython.core.display.HTML object>"
      ]
     },
     "metadata": {},
     "output_type": "display_data"
    }
   ],
   "source": [
    "#display\n",
    "from IPython.core.display import display, HTML\n",
    "display(HTML(\"<style>.container { width:95% !important; }</style>\"))\n",
    "\n",
    "#machine learning libraries\n",
    "import numpy as np\n",
    "from sklearn.model_selection import train_test_split\n",
    "from tensorflow import keras\n",
    "from tensorflow import keras\n",
    "from tensorflow.keras.models import Sequential\n",
    "from tensorflow.keras.layers import Dense, Flatten, Conv2D, Dropout\n"
   ]
  },
  {
   "cell_type": "code",
   "execution_count": 3,
   "metadata": {},
   "outputs": [],
   "source": [
    "img_rows, img_cols = 28, 28\n",
    "num_classes = 10\n",
    "def prep_data(raw):\n",
    "    y = raw[:, 0]\n",
    "    out_y = keras.utils.to_categorical(y, num_classes)\n",
    "    \n",
    "    x = raw[:,1:]\n",
    "    num_images = raw.shape[0]\n",
    "    out_x = x.reshape(num_images, img_rows, img_cols, 1)\n",
    "    out_x = out_x / 255\n",
    "    return out_x, out_y\n",
    "\n",
    "fashion_file = \"fashionmnist/fashion-mnist_train.csv\"\n",
    "fashion_data = np.loadtxt(fashion_file, skiprows=1, delimiter=',')\n",
    "x, y = prep_data(fashion_data)"
   ]
  },
  {
   "cell_type": "code",
   "execution_count": 4,
   "metadata": {},
   "outputs": [],
   "source": [
    "def buildModel():\n",
    "    fashion_model = Sequential()\n",
    "    fashion_model.add(Conv2D(20,\n",
    "                    activation='relu',\n",
    "                    kernel_size=3,\n",
    "                    input_shape = (img_rows, img_cols, 1)))\n",
    "    fashion_model.add(Conv2D(20,\n",
    "                    activation='relu',\n",
    "                    kernel_size=3,\n",
    "                    input_shape = (img_rows, img_cols, 1)))\n",
    "    fashion_model.add(Conv2D(20,\n",
    "                    activation='relu',\n",
    "                    kernel_size=3,\n",
    "                    input_shape = (img_rows, img_cols, 1)))\n",
    "    fashion_model.add(Conv2D(40,\n",
    "                    activation='relu',\n",
    "                    kernel_size=3,\n",
    "                    input_shape = (img_rows, img_cols, 1)))\n",
    "    fashion_model.add(Flatten())\n",
    "    fashion_model.add(Dense(100, activation='relu'))\n",
    "    fashion_model.add(Dense(10, activation='softmax'))\n",
    "\n",
    "    return fashion_model"
   ]
  },
  {
   "cell_type": "code",
   "execution_count": 10,
   "metadata": {},
   "outputs": [],
   "source": [
    "def compileModel(loss=\"categorical_crossentropy\",optimizer='adam',metrics= ['accuracy'], build_model = buildModel()):\n",
    "    fashion_model = build_model\n",
    "    fashion_model.compile(loss = loss,\n",
    "                      optimizer = optimizer,\n",
    "                      metrics = metrics) \n",
    "    return fashion_model"
   ]
  },
  {
   "cell_type": "code",
   "execution_count": null,
   "metadata": {},
   "outputs": [],
   "source": [
    "def fitModel(batch_size = 100,epochs = 4,validation_split = 0.2,build_model = buildModel()):\n",
    "    fashion_model = compileModel()\n",
    "    fashion_model.fit(x,y, batch_size = batch_size,\n",
    "                  epochs = epochs,\n",
    "                  validation_split = validation_split)\n",
    "    return fashion_model    "
   ]
  },
  {
   "cell_type": "code",
   "execution_count": 13,
   "metadata": {},
   "outputs": [
    {
     "name": "stdout",
     "output_type": "stream",
     "text": [
      "Train on 48000 samples, validate on 12000 samples\n",
      "Epoch 1/4\n",
      "48000/48000 [==============================] - 88s 2ms/sample - loss: 0.1605 - acc: 0.9420 - val_loss: 0.2549 - val_acc: 0.9153\n",
      "Epoch 2/4\n",
      "48000/48000 [==============================] - 81s 2ms/sample - loss: 0.1172 - acc: 0.9563 - val_loss: 0.2851 - val_acc: 0.9147\n",
      "Epoch 3/4\n",
      "48000/48000 [==============================] - 89s 2ms/sample - loss: 0.0882 - acc: 0.9677 - val_loss: 0.3315 - val_acc: 0.9117\n",
      "Epoch 4/4\n",
      "48000/48000 [==============================] - 99s 2ms/sample - loss: 0.0603 - acc: 0.9781 - val_loss: 0.3867 - val_acc: 0.9121\n"
     ]
    },
    {
     "data": {
      "text/plain": [
       "<tensorflow.python.keras.engine.sequential.Sequential at 0x1a6e3cfe148>"
      ]
     },
     "execution_count": 13,
     "metadata": {},
     "output_type": "execute_result"
    }
   ],
   "source": [
    "fitModel()"
   ]
  },
  {
   "cell_type": "markdown",
   "metadata": {},
   "source": [
    "when run, the model works quite slowly but accurately, to speed up the model will increase the stride size and add a dropout layer to help decrease the amount of overfitting"
   ]
  },
  {
   "cell_type": "code",
   "execution_count": null,
   "metadata": {},
   "outputs": [
    {
     "name": "stdout",
     "output_type": "stream",
     "text": [
      "Train on 48000 samples, validate on 12000 samples\n",
      "Epoch 1/4\n",
      "39800/48000 [=======================>......] - ETA: 11s - loss: 0.0153 - acc: 0.9946"
     ]
    }
   ],
   "source": [
    "def buildwithStridesAndDropout():\n",
    "    fashion_model = Sequential()\n",
    "    fashion_model.add(Conv2D(20,\n",
    "                    activation='relu',\n",
    "                    kernel_size=3, \n",
    "                    strides = 2,\n",
    "                    input_shape = (img_rows, img_cols, 1)))\n",
    "    fashion_model.add(Dropout(0.5))\n",
    "    fashion_model.add(Conv2D(20,\n",
    "                    activation='relu',\n",
    "                    kernel_size=3,\n",
    "                    input_shape = (img_rows, img_cols, 1)))\n",
    "    fashion_model.add(Dropout(0.5))\n",
    "    fashion_model.add(Conv2D(20,\n",
    "                    activation='relu',\n",
    "                    kernel_size=3,\n",
    "                    strides = 2,\n",
    "                    input_shape = (img_rows, img_cols, 1)))\n",
    "    fashion_model.add(Dropout(0.5))\n",
    "    fashion_model.add(Conv2D(40,\n",
    "                    activation='relu',\n",
    "                    kernel_size=3,\n",
    "                    input_shape = (img_rows, img_cols, 1)))\n",
    "    fashion_model.add(Conv2D(40,\n",
    "                    activation='relu',\n",
    "                    kernel_size=3,\n",
    "                    input_shape = (img_rows, img_cols, 1)))\n",
    "    fashion_model.add(Flatten())\n",
    "    fashion_model.add(Dense(128, activation='relu'))\n",
    "    fashion_model.add(Dense(10, activation='softmax'))\n",
    "\n",
    "    return fashion_model\n",
    "\n",
    "fitModel(build_model = buildwithStridesAndDropout())"
   ]
  },
  {
   "cell_type": "markdown",
   "metadata": {},
   "source": [
    "as seen, the value is about them same, but the speed is much faster"
   ]
  },
  {
   "cell_type": "code",
   "execution_count": null,
   "metadata": {},
   "outputs": [],
   "source": []
  }
 ],
 "metadata": {
  "kernelspec": {
   "display_name": "Python 3",
   "language": "python",
   "name": "python3"
  },
  "language_info": {
   "codemirror_mode": {
    "name": "ipython",
    "version": 3
   },
   "file_extension": ".py",
   "mimetype": "text/x-python",
   "name": "python",
   "nbconvert_exporter": "python",
   "pygments_lexer": "ipython3",
   "version": "3.7.4"
  }
 },
 "nbformat": 4,
 "nbformat_minor": 2
}
