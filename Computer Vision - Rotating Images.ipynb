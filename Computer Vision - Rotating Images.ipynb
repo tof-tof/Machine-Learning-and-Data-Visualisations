{
 "cells": [
  {
   "cell_type": "markdown",
   "metadata": {},
   "source": [
    "In this notebook, we use some tensorflow tools build a model that can identify if an image has been turned sideways during scanning, with the intention that an app could automatically rotate them\n",
    "\n",
    "# Imports"
   ]
  },
  {
   "cell_type": "code",
   "execution_count": 6,
   "metadata": {},
   "outputs": [
    {
     "data": {
      "text/html": [
       "<style>.container { width:95% !important; }</style>"
      ],
      "text/plain": [
       "<IPython.core.display.HTML object>"
      ]
     },
     "metadata": {},
     "output_type": "display_data"
    }
   ],
   "source": [
    "#display\n",
    "from IPython.core.display import display, HTML\n",
    "display(HTML(\"<style>.container { width:95% !important; }</style>\"))\n",
    "\n",
    "# machine learning libraries\n",
    "from IPython.display import display\n",
    "from PIL import Image\n",
    "from tensorflow.keras.applications import ResNet50\n",
    "from tensorflow.keras.models import Sequential\n",
    "from tensorflow.keras.layers import Dense, Flatten, GlobalAveragePooling2D\n",
    "from tensorflow.keras.applications.resnet50 import preprocess_input\n",
    "from tensorflow.keras.preprocessing.image import ImageDataGenerator"
   ]
  },
  {
   "cell_type": "code",
   "execution_count": 7,
   "metadata": {},
   "outputs": [],
   "source": [
    "# Specifying the model\n",
    "def specifyModel(num_classes=2):\n",
    "    resnet_weights_path = 'resnet50/resnet50_weights_tf_dim_ordering_tf_kernels_notop.h5'\n",
    "    my_new_model = Sequential()\n",
    "    my_new_model.add(ResNet50(include_top=False, pooling='avg', weights=resnet_weights_path))\n",
    "    my_new_model.add(Dense(num_classes, activation='softmax'))\n",
    "    my_new_model.layers[0].trainable = False\n",
    "    \n",
    "    return my_new_model"
   ]
  },
  {
   "cell_type": "code",
   "execution_count": 8,
   "metadata": {},
   "outputs": [],
   "source": [
    "# compile the model\n",
    "def compileModel():\n",
    "    my_new_model = specifyModel()\n",
    "    my_new_model.compile(optimizer='sgd', \n",
    "                     loss='categorical_crossentropy', \n",
    "                     metrics=['accuracy'])\n",
    "    return my_new_model"
   ]
  },
  {
   "cell_type": "code",
   "execution_count": 12,
   "metadata": {},
   "outputs": [
    {
     "name": "stdout",
     "output_type": "stream",
     "text": [
      "Found 165 images belonging to 2 classes.\n",
      "Found 217 images belonging to 2 classes.\n",
      "22/22 [==============================] - 63s 3s/step - loss: 0.5234 - acc: 0.7860 - val_loss: 0.2314 - val_acc: 0.9062\n"
     ]
    }
   ],
   "source": [
    "# fit the model\n",
    "\n",
    "def fitModel(image_size=224,horizontal_flip=False, vertical_flip=False, width_shift_range=0.0, height_shift_range=0.0,epochs=1):\n",
    "    my_new_model= compileModel()\n",
    "    data_generator = ImageDataGenerator(preprocessing_function=preprocess_input,\n",
    "                                        horizontal_flip=horizontal_flip,\n",
    "                                        vertical_flip=vertical_flip,\n",
    "                                        width_shift_range=width_shift_range, \n",
    "                                        height_shift_range=height_shift_range\n",
    "                                       )\n",
    "    train_data_dir = 'dogs-gone-sideways/images/train'\n",
    "    valid_data_dir = 'dogs-gone-sideways/images/val'\n",
    "    train_generator = data_generator.flow_from_directory(\n",
    "                                            directory=train_data_dir,\n",
    "                                            target_size=(image_size, image_size),\n",
    "                                            batch_size=10,\n",
    "                                            class_mode='categorical')\n",
    "\n",
    "    validation_generator = data_generator.flow_from_directory(\n",
    "                                            directory=valid_data_dir,\n",
    "                                            target_size=(image_size, image_size),\n",
    "                                            class_mode='categorical')\n",
    "\n",
    "    # fit_stats below saves some statistics describing how model fitting went\n",
    "    # the key role of the following line is how it changes my_new_model by fitting to data\n",
    "    fit_stats = my_new_model.fit_generator(train_generator,\n",
    "                                           steps_per_epoch=22,\n",
    "                                           epochs=epochs,\n",
    "                                           validation_data=validation_generator,\n",
    "                                           validation_steps=1)\n",
    "fitModel()"
   ]
  },
  {
   "cell_type": "markdown",
   "metadata": {},
   "source": [
    "As seen from the output, the model is correct around 90% of the time\n",
    "\n",
    "# Data Augmentation\n",
    "\n",
    "One way of increasing the amount of data to train the model on is data augmentation, this involves mirroring, rotating and cropping the image (if applicable to the case) to create more test data from that which we already have. Sinec the task is about identifying whether photo is upright or sideways, rotations may not be suitable, but we shall utilise the other techinques below."
   ]
  },
  {
   "cell_type": "code",
   "execution_count": 13,
   "metadata": {},
   "outputs": [
    {
     "name": "stdout",
     "output_type": "stream",
     "text": [
      "Found 165 images belonging to 2 classes.\n",
      "Found 217 images belonging to 2 classes.\n",
      "Epoch 1/3\n",
      "22/22 [==============================] - 85s 4s/step - loss: 0.5134 - acc: 0.7442 - val_loss: 0.1904 - val_acc: 0.9688\n",
      "Epoch 2/3\n",
      "22/22 [==============================] - 76s 3s/step - loss: 0.2175 - acc: 0.9143 - val_loss: 0.1217 - val_acc: 1.0000\n",
      "Epoch 3/3\n",
      "22/22 [==============================] - 80s 4s/step - loss: 0.1300 - acc: 0.9721 - val_loss: 0.1209 - val_acc: 0.9688\n"
     ]
    }
   ],
   "source": [
    "fitModel(epochs = 3,horizontal_flip = True, width_shift_range = 0.1, height_shift_range = 0.1)"
   ]
  },
  {
   "cell_type": "markdown",
   "metadata": {},
   "source": [
    "From this, we can see that data augmentation does have a positive effect on the model increasing its accuaracy to almost 97% in its first epoch, Doing another one increases the accuracy even further to 100% put the third starts to overfit, taking the model back to 97%, so we can see that 2 epochs and with the rest of the above settings makes the best model for us in this case. "
   ]
  },
  {
   "cell_type": "code",
   "execution_count": null,
   "metadata": {},
   "outputs": [],
   "source": []
  }
 ],
 "metadata": {
  "kernelspec": {
   "display_name": "Python 3",
   "language": "python",
   "name": "python3"
  },
  "language_info": {
   "codemirror_mode": {
    "name": "ipython",
    "version": 3
   },
   "file_extension": ".py",
   "mimetype": "text/x-python",
   "name": "python",
   "nbconvert_exporter": "python",
   "pygments_lexer": "ipython3",
   "version": "3.7.4"
  }
 },
 "nbformat": 4,
 "nbformat_minor": 2
}
